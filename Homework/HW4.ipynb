{
 "metadata": {
  "name": "",
  "signature": "sha256:13c64bbad942f5a6d661559b18fb3da5640f5cafd9b9f6b36d9a561c6ce1f1ff"
 },
 "nbformat": 3,
 "nbformat_minor": 0,
 "worksheets": [
  {
   "cells": [
    {
     "cell_type": "code",
     "collapsed": false,
     "input": [
      "# usual imports\n",
      "import numpy as np\n",
      "import matplotlib.pyplot as plt\n",
      "import pylab as pl\n",
      "import pandas as pd\n",
      "%matplotlib inline\n",
      "# scikit-learn algorithms\n",
      "from sklearn.decomposition import PCA"
     ],
     "language": "python",
     "metadata": {},
     "outputs": [],
     "prompt_number": 9
    },
    {
     "cell_type": "code",
     "collapsed": false,
     "input": [
      "# importing dataset\n",
      "from sklearn.datasets import fetch_olivetti_faces"
     ],
     "language": "python",
     "metadata": {},
     "outputs": [],
     "prompt_number": 30
    },
    {
     "cell_type": "code",
     "collapsed": false,
     "input": [
      "faces = fetch_olivetti_faces()"
     ],
     "language": "python",
     "metadata": {},
     "outputs": [
      {
       "output_type": "stream",
       "stream": "stdout",
       "text": [
        "downloading Olivetti faces from http://cs.nyu.edu/~roweis/data/olivettifaces.mat to /Users/priyankatalwar/scikit_learn_data\n"
       ]
      }
     ],
     "prompt_number": 31
    },
    {
     "cell_type": "code",
     "collapsed": false,
     "input": [
      "print faces.DESCR"
     ],
     "language": "python",
     "metadata": {},
     "outputs": [
      {
       "output_type": "stream",
       "stream": "stdout",
       "text": [
        "Modified Olivetti faces dataset.\n",
        "\n",
        "The original database was available from (now defunct)\n",
        "\n",
        "    http://www.uk.research.att.com/facedatabase.html\n",
        "\n",
        "The version retrieved here comes in MATLAB format from the personal\n",
        "web page of Sam Roweis:\n",
        "\n",
        "    http://www.cs.nyu.edu/~roweis/\n",
        "\n",
        "There are ten different images of each of 40 distinct subjects. For some\n",
        "subjects, the images were taken at different times, varying the lighting,\n",
        "facial expressions (open / closed eyes, smiling / not smiling) and facial\n",
        "details (glasses / no glasses). All the images were taken against a dark\n",
        "homogeneous background with the subjects in an upright, frontal position (with\n",
        "tolerance for some side movement).\n",
        "\n",
        "The original dataset consisted of 92 x 112, while the Roweis version\n",
        "consists of 64x64 images.\n",
        "\n"
       ]
      }
     ],
     "prompt_number": 33
    },
    {
     "cell_type": "code",
     "collapsed": false,
     "input": [
      "print faces.keys()\n",
      "print faces.images.shape\n",
      "print faces.data.shape\n",
      "print faces.target.shape"
     ],
     "language": "python",
     "metadata": {},
     "outputs": [
      {
       "output_type": "stream",
       "stream": "stdout",
       "text": [
        "['images', 'data', 'target', 'DESCR']\n",
        "(400, 64, 64)\n",
        "(400, 4096)\n",
        "(400,)\n"
       ]
      }
     ],
     "prompt_number": 35
    },
    {
     "cell_type": "code",
     "collapsed": false,
     "input": [
      "print olivetti('DESCR')"
     ],
     "language": "python",
     "metadata": {},
     "outputs": [
      {
       "output_type": "stream",
       "stream": "stdout",
       "text": [
        "{'images': array([[[ 0.30991736,  0.36776859,  0.41735536, ...,  0.37190083,\n",
        "          0.33057851,  0.30578512],\n",
        "        [ 0.3429752 ,  0.40495867,  0.43801653, ...,  0.37190083,\n",
        "          0.33884299,  0.3140496 ],\n",
        "        [ 0.3429752 ,  0.41735536,  0.45041323, ...,  0.38016528,\n",
        "          0.33884299,  0.29752067],\n",
        "        ..., \n",
        "        [ 0.21487603,  0.20661157,  0.22314049, ...,  0.15289256,\n",
        "          0.16528925,  0.17355372],\n",
        "        [ 0.20247933,  0.2107438 ,  0.2107438 , ...,  0.14876033,\n",
        "          0.16115703,  0.16528925],\n",
        "        [ 0.20247933,  0.20661157,  0.20247933, ...,  0.15289256,\n",
        "          0.16115703,  0.1570248 ]],\n",
        "\n",
        "       [[ 0.45454547,  0.47107437,  0.51239669, ...,  0.19008264,\n",
        "          0.18595041,  0.18595041],\n",
        "        [ 0.44628099,  0.48347107,  0.52066118, ...,  0.21487603,\n",
        "          0.2107438 ,  0.2107438 ],\n",
        "        [ 0.49586776,  0.5165289 ,  0.53305787, ...,  0.20247933,\n",
        "          0.20661157,  0.20661157],\n",
        "        ..., \n",
        "        [ 0.77272725,  0.78099173,  0.79338843, ...,  0.14462809,\n",
        "          0.14462809,  0.14462809],\n",
        "        [ 0.77272725,  0.77685952,  0.78925622, ...,  0.13636364,\n",
        "          0.13636364,  0.13636364],\n",
        "        [ 0.76446283,  0.78925622,  0.78099173, ...,  0.15289256,\n",
        "          0.15289256,  0.15289256]],\n",
        "\n",
        "       [[ 0.31818181,  0.40082645,  0.49173555, ...,  0.40082645,\n",
        "          0.35537189,  0.30991736],\n",
        "        [ 0.30991736,  0.39669421,  0.47933885, ...,  0.40495867,\n",
        "          0.37603307,  0.30165288],\n",
        "        [ 0.26859504,  0.34710744,  0.45454547, ...,  0.39669421,\n",
        "          0.37190083,  0.30991736],\n",
        "        ..., \n",
        "        [ 0.1322314 ,  0.09917355,  0.08264463, ...,  0.13636364,\n",
        "          0.14876033,  0.15289256],\n",
        "        [ 0.11570248,  0.09504132,  0.0785124 , ...,  0.14462809,\n",
        "          0.14462809,  0.1570248 ],\n",
        "        [ 0.11157025,  0.09090909,  0.0785124 , ...,  0.14049587,\n",
        "          0.14876033,  0.15289256]],\n",
        "\n",
        "       ..., \n",
        "       [[ 0.5       ,  0.53305787,  0.60743803, ...,  0.28512397,\n",
        "          0.23966943,  0.21487603],\n",
        "        [ 0.49173555,  0.54132229,  0.60330576, ...,  0.29752067,\n",
        "          0.20247933,  0.20661157],\n",
        "        [ 0.46694216,  0.55785125,  0.61983472, ...,  0.29752067,\n",
        "          0.17768595,  0.18595041],\n",
        "        ..., \n",
        "        [ 0.03305785,  0.46280992,  0.5289256 , ...,  0.17355372,\n",
        "          0.17355372,  0.16942149],\n",
        "        [ 0.1570248 ,  0.52479339,  0.53305787, ...,  0.16528925,\n",
        "          0.1570248 ,  0.18595041],\n",
        "        [ 0.45454547,  0.52066118,  0.53305787, ...,  0.17768595,\n",
        "          0.14876033,  0.19008264]],\n",
        "\n",
        "       [[ 0.21487603,  0.21900827,  0.21900827, ...,  0.71487606,\n",
        "          0.71487606,  0.69421488],\n",
        "        [ 0.20247933,  0.20661157,  0.20661157, ...,  0.71074378,\n",
        "          0.70661157,  0.69421488],\n",
        "        [ 0.2107438 ,  0.20661157,  0.20661157, ...,  0.6859504 ,\n",
        "          0.69008267,  0.69421488],\n",
        "        ..., \n",
        "        [ 0.2644628 ,  0.25619835,  0.26033059, ...,  0.54132229,\n",
        "          0.57438016,  0.59090906],\n",
        "        [ 0.26859504,  0.2644628 ,  0.26859504, ...,  0.56198347,\n",
        "          0.58264464,  0.59504133],\n",
        "        [ 0.27272728,  0.26859504,  0.27272728, ...,  0.57438016,\n",
        "          0.59090906,  0.60330576]],\n",
        "\n",
        "       [[ 0.5165289 ,  0.46280992,  0.28099173, ...,  0.57851237,\n",
        "          0.54132229,  0.60330576],\n",
        "        [ 0.5165289 ,  0.45041323,  0.29338843, ...,  0.58264464,\n",
        "          0.55371898,  0.57851237],\n",
        "        [ 0.5165289 ,  0.44214877,  0.29338843, ...,  0.59917355,\n",
        "          0.57851237,  0.54545456],\n",
        "        ..., \n",
        "        [ 0.39256197,  0.41322315,  0.38842976, ...,  0.33471075,\n",
        "          0.37190083,  0.39669421],\n",
        "        [ 0.39256197,  0.38429752,  0.40495867, ...,  0.33057851,\n",
        "          0.35950413,  0.37603307],\n",
        "        [ 0.36776859,  0.40495867,  0.39669421, ...,  0.35950413,\n",
        "          0.35537189,  0.38429752]]], dtype=float32), 'data': array([[ 0.30991736,  0.36776859,  0.41735536, ...,  0.15289256,\n",
        "         0.16115703,  0.1570248 ],\n",
        "       [ 0.45454547,  0.47107437,  0.51239669, ...,  0.15289256,\n",
        "         0.15289256,  0.15289256],\n",
        "       [ 0.31818181,  0.40082645,  0.49173555, ...,  0.14049587,\n",
        "         0.14876033,  0.15289256],\n",
        "       ..., \n",
        "       [ 0.5       ,  0.53305787,  0.60743803, ...,  0.17768595,\n",
        "         0.14876033,  0.19008264],\n",
        "       [ 0.21487603,  0.21900827,  0.21900827, ...,  0.57438016,\n",
        "         0.59090906,  0.60330576],\n",
        "       [ 0.5165289 ,  0.46280992,  0.28099173, ...,  0.35950413,\n",
        "         0.35537189,  0.38429752]], dtype=float32), 'target': array([ 0,  0,  0,  0,  0,  0,  0,  0,  0,  0,  1,  1,  1,  1,  1,  1,  1,\n",
        "        1,  1,  1,  2,  2,  2,  2,  2,  2,  2,  2,  2,  2,  3,  3,  3,  3,\n",
        "        3,  3,  3,  3,  3,  3,  4,  4,  4,  4,  4,  4,  4,  4,  4,  4,  5,\n",
        "        5,  5,  5,  5,  5,  5,  5,  5,  5,  6,  6,  6,  6,  6,  6,  6,  6,\n",
        "        6,  6,  7,  7,  7,  7,  7,  7,  7,  7,  7,  7,  8,  8,  8,  8,  8,\n",
        "        8,  8,  8,  8,  8,  9,  9,  9,  9,  9,  9,  9,  9,  9,  9, 10, 10,\n",
        "       10, 10, 10, 10, 10, 10, 10, 10, 11, 11, 11, 11, 11, 11, 11, 11, 11,\n",
        "       11, 12, 12, 12, 12, 12, 12, 12, 12, 12, 12, 13, 13, 13, 13, 13, 13,\n",
        "       13, 13, 13, 13, 14, 14, 14, 14, 14, 14, 14, 14, 14, 14, 15, 15, 15,\n",
        "       15, 15, 15, 15, 15, 15, 15, 16, 16, 16, 16, 16, 16, 16, 16, 16, 16,\n",
        "       17, 17, 17, 17, 17, 17, 17, 17, 17, 17, 18, 18, 18, 18, 18, 18, 18,\n",
        "       18, 18, 18, 19, 19, 19, 19, 19, 19, 19, 19, 19, 19, 20, 20, 20, 20,\n",
        "       20, 20, 20, 20, 20, 20, 21, 21, 21, 21, 21, 21, 21, 21, 21, 21, 22,\n",
        "       22, 22, 22, 22, 22, 22, 22, 22, 22, 23, 23, 23, 23, 23, 23, 23, 23,\n",
        "       23, 23, 24, 24, 24, 24, 24, 24, 24, 24, 24, 24, 25, 25, 25, 25, 25,\n",
        "       25, 25, 25, 25, 25, 26, 26, 26, 26, 26, 26, 26, 26, 26, 26, 27, 27,\n",
        "       27, 27, 27, 27, 27, 27, 27, 27, 28, 28, 28, 28, 28, 28, 28, 28, 28,\n",
        "       28, 29, 29, 29, 29, 29, 29, 29, 29, 29, 29, 30, 30, 30, 30, 30, 30,\n",
        "       30, 30, 30, 30, 31, 31, 31, 31, 31, 31, 31, 31, 31, 31, 32, 32, 32,\n",
        "       32, 32, 32, 32, 32, 32, 32, 33, 33, 33, 33, 33, 33, 33, 33, 33, 33,\n",
        "       34, 34, 34, 34, 34, 34, 34, 34, 34, 34, 35, 35, 35, 35, 35, 35, 35,\n",
        "       35, 35, 35, 36, 36, 36, 36, 36, 36, 36, 36, 36, 36, 37, 37, 37, 37,\n",
        "       37, 37, 37, 37, 37, 37, 38, 38, 38, 38, 38, 38, 38, 38, 38, 38, 39,\n",
        "       39, 39, 39, 39, 39, 39, 39, 39, 39]), 'DESCR': 'Modified Olivetti faces dataset.\\n\\nThe original database was available from (now defunct)\\n\\n    http://www.uk.research.att.com/facedatabase.html\\n\\nThe version retrieved here comes in MATLAB format from the personal\\nweb page of Sam Roweis:\\n\\n    http://www.cs.nyu.edu/~roweis/\\n\\nThere are ten different images of each of 40 distinct subjects. For some\\nsubjects, the images were taken at different times, varying the lighting,\\nfacial expressions (open / closed eyes, smiling / not smiling) and facial\\ndetails (glasses / no glasses). All the images were taken against a dark\\nhomogeneous background with the subjects in an upright, frontal position (with\\ntolerance for some side movement).\\n\\nThe original dataset consisted of 92 x 112, while the Roweis version\\nconsists of 64x64 images.\\n'}\n"
       ]
      }
     ],
     "prompt_number": 20
    },
    {
     "cell_type": "code",
     "collapsed": false,
     "input": [
      "# Implement PCA on the dataset, using the sklearn. \n",
      "X = faces.data\n",
      "y = faces.target"
     ],
     "language": "python",
     "metadata": {},
     "outputs": [],
     "prompt_number": 37
    },
    {
     "cell_type": "code",
     "collapsed": false,
     "input": [
      "# from lab notes\n",
      "pca = PCA(n_components = 64)\n",
      "X_r = pca.fit(X).transform(X)"
     ],
     "language": "python",
     "metadata": {},
     "outputs": [],
     "prompt_number": 38
    },
    {
     "cell_type": "code",
     "collapsed": false,
     "input": [
      "X_r"
     ],
     "language": "python",
     "metadata": {},
     "outputs": [
      {
       "metadata": {},
       "output_type": "pyout",
       "prompt_number": 39,
       "text": [
        "array([[ -6.43261576e+00,  -7.03660905e-01,  -1.43002164e+00, ...,\n",
        "          7.02368975e-01,   2.01037765e-01,  -3.17659080e-01],\n",
        "       [ -1.07590592e+00,  -6.69733238e+00,   1.84280157e+00, ...,\n",
        "          6.04608655e-03,   2.76867539e-01,  -8.85541022e-01],\n",
        "       [ -5.29295349e+00,  -1.54250515e+00,   2.25953281e-01, ...,\n",
        "          7.43077993e-01,  -1.77386701e-02,   1.30365640e-02],\n",
        "       ..., \n",
        "       [  2.04076362e+00,  -1.50961351e+00,   3.44873309e+00, ...,\n",
        "         -6.07888848e-02,  -4.26598966e-01,   3.17831367e-01],\n",
        "       [ -5.16522360e+00,   8.09677124e+00,  -6.71011150e-01, ...,\n",
        "         -1.09566379e+00,   4.09126878e-02,  -1.33620456e-01],\n",
        "       [ -1.15049911e+00,   2.43503594e+00,   1.18949449e+00, ...,\n",
        "          2.13832870e-01,   1.85480818e-01,  -4.57261682e-01]], dtype=float32)"
       ]
      }
     ],
     "prompt_number": 39
    },
    {
     "cell_type": "code",
     "collapsed": false,
     "input": [
      "ratios = pca.explained_variance_ratio_\n",
      "print ratios"
     ],
     "language": "python",
     "metadata": {},
     "outputs": [
      {
       "output_type": "stream",
       "stream": "stdout",
       "text": [
        "[ 0.23812735  0.13993968  0.07968618  0.0499833   0.03609841  0.03156936\n",
        "  0.02426832  0.02036397  0.01958114  0.01672124  0.01595223  0.0143698\n",
        "  0.01246741  0.01147133  0.01062877  0.00977721  0.0091906   0.00815573\n",
        "  0.00753876  0.00746985  0.00698578  0.00614628  0.00583928  0.00569722\n",
        "  0.00546191  0.00531856  0.00513817  0.00495842  0.00457664  0.00441183\n",
        "  0.00402002  0.0038419   0.00361951  0.00334543  0.00320381  0.00316041\n",
        "  0.00305148  0.00298635  0.00282141  0.00274006  0.00259772  0.0025399\n",
        "  0.00244547  0.0023984   0.00230891  0.00226419  0.00222287  0.00220443\n",
        "  0.00208921  0.00204983  0.00196843  0.00191436  0.00185046  0.00178939\n",
        "  0.00177608  0.00172483  0.00168585  0.00164168  0.00161886  0.00158394\n",
        "  0.00155428  0.00152233  0.00149958  0.00147712]\n"
       ]
      }
     ],
     "prompt_number": 40
    },
    {
     "cell_type": "code",
     "collapsed": false,
     "input": [
      "comp_id_list = range(1,65)             # ids of components\n",
      "fig = plt.figure(figsize=(8,5))\n",
      "plt.plot(comp_id_list, ratios, 'ro-', linewidth=2)\n",
      "plt.title('Scree Plot')\n",
      "plt.xlabel('Principal Component')\n",
      "plt.ylabel('Eigenvalue')"
     ],
     "language": "python",
     "metadata": {},
     "outputs": [
      {
       "metadata": {},
       "output_type": "pyout",
       "prompt_number": 48,
       "text": [
        "<matplotlib.text.Text at 0x113723490>"
       ]
      },
      {
       "metadata": {},
       "output_type": "display_data",
       "png": "[encoded data removed]",
       "text": [
        "<matplotlib.figure.Figure at 0x113568290>"
       ]
      }
     ],
     "prompt_number": 48
    },
    {
     "cell_type": "code",
     "collapsed": false,
     "input": [
      "# Change from PCA to RandomizedPCA. Do you obtain the same principal components? Why? Why not?\n",
      "from sklearn.decomposition import RandomizedPCA"
     ],
     "language": "python",
     "metadata": {},
     "outputs": [],
     "prompt_number": 51
    },
    {
     "cell_type": "code",
     "collapsed": false,
     "input": [
      "pca_random = RandomizedPCA(n_components=64)"
     ],
     "language": "python",
     "metadata": {},
     "outputs": [],
     "prompt_number": 54
    },
    {
     "cell_type": "code",
     "collapsed": false,
     "input": [
      "X_r_random = pca.fit(X).transform(X)"
     ],
     "language": "python",
     "metadata": {},
     "outputs": [],
     "prompt_number": 55
    },
    {
     "cell_type": "code",
     "collapsed": false,
     "input": [
      "X_r_random"
     ],
     "language": "python",
     "metadata": {},
     "outputs": [
      {
       "metadata": {},
       "output_type": "pyout",
       "prompt_number": 56,
       "text": [
        "array([[ 6.43261226,  0.70366883, -1.43002257, ...,  0.60432133,\n",
        "         0.40435028, -0.19766902],\n",
        "       [ 1.07589423,  6.69733258,  1.84280153, ...,  0.69330554,\n",
        "        -0.28664354,  0.25941058],\n",
        "       [ 5.29294952,  1.54251125,  0.22595295, ...,  0.5437967 ,\n",
        "         0.21174185,  0.00858513],\n",
        "       ..., \n",
        "       [-2.04076563,  1.50961403,  3.44873277, ..., -0.29208211,\n",
        "         0.01538656, -0.00953311],\n",
        "       [ 5.16523587, -8.09676132, -0.67100488, ..., -0.40297689,\n",
        "        -0.14606636,  0.09446236],\n",
        "       [ 1.15050286, -2.43503205,  1.1894967 , ...,  0.52723958,\n",
        "        -0.24764205, -0.08932621]])"
       ]
      }
     ],
     "prompt_number": 56
    },
    {
     "cell_type": "code",
     "collapsed": false,
     "input": [
      "comp_id_list = range(1,65)             # ids of components\n",
      "fig = plt.figure(figsize=(8,5))\n",
      "plt.plot(comp_id_list, ratios, 'ro-', linewidth=2)\n",
      "plt.title('Randomized Scree Plot')\n",
      "plt.xlabel('Principal Component')\n",
      "plt.ylabel('Eigenvalue')"
     ],
     "language": "python",
     "metadata": {},
     "outputs": [
      {
       "metadata": {},
       "output_type": "pyout",
       "prompt_number": 57,
       "text": [
        "<matplotlib.text.Text at 0x113880050>"
       ]
      },
      {
       "metadata": {},
       "output_type": "display_data",
       "png": "[encoded data removed]",
       "text": [
        "<matplotlib.figure.Figure at 0x113892d50>"
       ]
      }
     ],
     "prompt_number": 57
    },
    {
     "cell_type": "code",
     "collapsed": false,
     "input": [
      "# Looks the same"
     ],
     "language": "python",
     "metadata": {},
     "outputs": []
    },
    {
     "cell_type": "code",
     "collapsed": false,
     "input": [
      "# Plot the datapoints in the plane of the two principal components. Are any clusters visible\n",
      "pca_first_two = PCA(n_components = 2)"
     ],
     "language": "python",
     "metadata": {},
     "outputs": [],
     "prompt_number": 58
    },
    {
     "cell_type": "code",
     "collapsed": false,
     "input": [
      "# transformed PCA\n",
      "X_r = pca_first_two.fit(X).transform(X) \n",
      "len(X_r)"
     ],
     "language": "python",
     "metadata": {},
     "outputs": [
      {
       "metadata": {},
       "output_type": "pyout",
       "prompt_number": 59,
       "text": [
        "400"
       ]
      }
     ],
     "prompt_number": 59
    },
    {
     "cell_type": "code",
     "collapsed": false,
     "input": [
      "pl.figure()\n",
      "for i in range(0, 400):\n",
      "    pl.scatter(X_r[i, 0], X_r[i, 1], marker='o')\n",
      "pl.title('First two components of Olivetti Faces Dataset_PCA')\n",
      "\n",
      "pl.show()"
     ],
     "language": "python",
     "metadata": {},
     "outputs": [
      {
       "metadata": {},
       "output_type": "display_data",
       "png": "[encoded data removed]",
       "text": [
        "<matplotlib.figure.Figure at 0x111b21910>"
       ]
      }
     ],
     "prompt_number": 61
    },
    {
     "cell_type": "code",
     "collapsed": false,
     "input": [
      "# Implement k-means clustering, using sklearn, with k = number of people in the dataset. Does the clustering work? Does each cluster map correctly to one \n",
      "# person?\n",
      "from sklearn.cluster import KMeans"
     ],
     "language": "python",
     "metadata": {},
     "outputs": [],
     "prompt_number": 62
    },
    {
     "cell_type": "code",
     "collapsed": false,
     "input": [
      "km = KMeans(n_clusters=40,  init='k-means++', n_init=10 , max_iter = 300, random_state=1)"
     ],
     "language": "python",
     "metadata": {},
     "outputs": [],
     "prompt_number": 73
    },
    {
     "cell_type": "code",
     "collapsed": false,
     "input": [
      "def do_kmeans_40(km, data):\n",
      "    km.fit(data)\n",
      "    centroids = km.cluster_centers_\n",
      "    print \"centroids:\", centroids\n",
      "    y = km.predict(data)\n",
      "    \n",
      "    \n",
      "    fig, ax = plt.subplots(1,1, figsize=(8,5))\n",
      "    for t,marker,c in zip(xrange(40),\">ox+\",\"rgby\") :\n",
      "        ax.scatter(data[y == t,0],\n",
      "                   data[y == t,1],\n",
      "                   marker=marker,\n",
      "                   c=c)\n",
      "\n",
      "    ax.scatter(centroids[:,0],centroids[:,1],marker = 's',c='r')"
     ],
     "language": "python",
     "metadata": {},
     "outputs": [],
     "prompt_number": 74
    },
    {
     "cell_type": "code",
     "collapsed": false,
     "input": [
      "do_kmeans_40(km, X_r)"
     ],
     "language": "python",
     "metadata": {},
     "outputs": [
      {
       "output_type": "stream",
       "stream": "stdout",
       "text": [
        "centroids: [[ -1.85671526   4.03237251]\n",
        " [  1.94252878   0.57744136]\n",
        " [ -1.07979318  -3.48834934]\n",
        " [ -6.35435237   1.71366117]\n",
        " [  9.84375327   0.2732254 ]\n",
        " [ -3.01112515   9.80032969]\n",
        " [  2.05095356  -3.54288122]\n",
        " [ -3.37802576  -3.8288308 ]\n",
        " [ -0.2806614   -0.50558747]\n",
        " [  1.58031704   5.62400389]\n",
        " [ -2.93342098   2.08794418]\n",
        " [  7.709891     3.17395111]\n",
        " [  4.1569716    3.30089958]\n",
        " [ -1.76725213  -7.47921387]\n",
        " [-10.19510428   3.73978233]\n",
        " [ -5.03015004   6.6007841 ]\n",
        " [ -1.40053929  -1.49671263]\n",
        " [  0.5780358   -4.05479603]\n",
        " [ -5.07822698  -2.12032266]\n",
        " [  0.0230277    0.80782477]\n",
        " [-10.28810859   0.42418309]\n",
        " [ -4.06684047   0.92648344]\n",
        " [  1.36779118 -10.37613297]\n",
        " [  4.54744257   1.08295075]\n",
        " [  2.77487999  -1.82810903]\n",
        " [ -1.8059176    6.8915349 ]\n",
        " [  3.93449521  -5.14138591]\n",
        " [  4.69060421  -0.11313413]\n",
        " [ -6.62776828  -4.59751654]\n",
        " [  2.01463319   2.93534536]\n",
        " [ -2.42413404  -5.18539975]\n",
        " [ -4.76582395   3.9712215 ]\n",
        " [  7.86060023  -0.5352764 ]\n",
        " [  1.83551289   8.13756809]\n",
        " [  9.40824375   2.30064633]\n",
        " [ -6.1949544   -1.04245713]\n",
        " [  0.88305506  -1.93464628]\n",
        " [  3.92282512  -1.25498701]\n",
        " [ -3.37897801  -1.10869833]\n",
        " [ -1.20003968   1.66525966]]\n"
       ]
      },
      {
       "metadata": {},
       "output_type": "display_data",
       "png": "[encoded data removed]",
       "text": [
        "<matplotlib.figure.Figure at 0x10b3ecf10>"
       ]
      }
     ],
     "prompt_number": 75
    },
    {
     "cell_type": "code",
     "collapsed": false,
     "input": [
      "# Vary the number k between 1 and <number of datapoints> and plot the Silhouette coefficient as a function of k. \n",
      "from sklearn import metrics\n",
      "from sklearn.metrics import pairwise_distances\n",
      "\n",
      "km = KMeans(n_clusters=3, random_state=1)\n",
      "km.fit(X_r)\n",
      "labels = km.labels_\n",
      "metrics.silhouette_score(X, labels, metric='euclidean')"
     ],
     "language": "python",
     "metadata": {},
     "outputs": [
      {
       "metadata": {},
       "output_type": "pyout",
       "prompt_number": 77,
       "text": [
        "0.12437181"
       ]
      }
     ],
     "prompt_number": 77
    },
    {
     "cell_type": "code",
     "collapsed": true,
     "input": [
      "silhoutescore = ()\n",
      "for k in xrange(2,40):\n",
      "    km = KMeans(n_clusters=k, random_state=1)\n",
      "    km.fit(X_r)\n",
      "    labels = km.labels_\n",
      "    print k, metrics.silhouette_score(X_r, labels, metric='euclidean')\n",
      "    "
     ],
     "language": "python",
     "metadata": {},
     "outputs": [
      {
       "output_type": "stream",
       "stream": "stdout",
       "text": [
        "2 0.392753\n",
        "3"
       ]
      },
      {
       "output_type": "stream",
       "stream": "stdout",
       "text": [
        " 0.397989\n",
        "4"
       ]
      },
      {
       "output_type": "stream",
       "stream": "stdout",
       "text": [
        " 0.382645\n",
        "5 "
       ]
      },
      {
       "output_type": "stream",
       "stream": "stdout",
       "text": [
        "0.361481\n",
        "6 "
       ]
      },
      {
       "output_type": "stream",
       "stream": "stdout",
       "text": [
        "0.355367\n",
        "7"
       ]
      },
      {
       "output_type": "stream",
       "stream": "stdout",
       "text": [
        " 0.379142\n",
        "8"
       ]
      },
      {
       "output_type": "stream",
       "stream": "stdout",
       "text": [
        " 0.36857\n",
        "9"
       ]
      },
      {
       "output_type": "stream",
       "stream": "stdout",
       "text": [
        " 0.370545\n",
        "10 "
       ]
      },
      {
       "output_type": "stream",
       "stream": "stdout",
       "text": [
        "0.376998\n",
        "11"
       ]
      },
      {
       "output_type": "stream",
       "stream": "stdout",
       "text": [
        " 0.36512\n",
        "12"
       ]
      },
      {
       "output_type": "stream",
       "stream": "stdout",
       "text": [
        " 0.387447\n",
        "13"
       ]
      },
      {
       "output_type": "stream",
       "stream": "stdout",
       "text": [
        " 0.382691\n",
        "14"
       ]
      },
      {
       "output_type": "stream",
       "stream": "stdout",
       "text": [
        " 0.366776\n",
        "15"
       ]
      },
      {
       "output_type": "stream",
       "stream": "stdout",
       "text": [
        " 0.374017\n",
        "16"
       ]
      },
      {
       "output_type": "stream",
       "stream": "stdout",
       "text": [
        " 0.359784\n",
        "17"
       ]
      },
      {
       "output_type": "stream",
       "stream": "stdout",
       "text": [
        " 0.361232\n",
        "18"
       ]
      },
      {
       "output_type": "stream",
       "stream": "stdout",
       "text": [
        " 0.370602\n",
        "19"
       ]
      },
      {
       "output_type": "stream",
       "stream": "stdout",
       "text": [
        " 0.371083\n",
        "20"
       ]
      },
      {
       "output_type": "stream",
       "stream": "stdout",
       "text": [
        " 0.384032\n",
        "21"
       ]
      },
      {
       "output_type": "stream",
       "stream": "stdout",
       "text": [
        " 0.368332\n",
        "22"
       ]
      },
      {
       "output_type": "stream",
       "stream": "stdout",
       "text": [
        " 0.372431\n",
        "23"
       ]
      },
      {
       "output_type": "stream",
       "stream": "stdout",
       "text": [
        " 0.368409\n",
        "24"
       ]
      },
      {
       "output_type": "stream",
       "stream": "stdout",
       "text": [
        " 0.369701\n",
        "25"
       ]
      },
      {
       "output_type": "stream",
       "stream": "stdout",
       "text": [
        " 0.384372\n",
        "26"
       ]
      },
      {
       "output_type": "stream",
       "stream": "stdout",
       "text": [
        " 0.393335\n",
        "27"
       ]
      },
      {
       "output_type": "stream",
       "stream": "stdout",
       "text": [
        " 0.391714\n",
        "28"
       ]
      },
      {
       "output_type": "stream",
       "stream": "stdout",
       "text": [
        " 0.398329\n",
        "29"
       ]
      },
      {
       "output_type": "stream",
       "stream": "stdout",
       "text": [
        " 0.388559\n",
        "30"
       ]
      },
      {
       "output_type": "stream",
       "stream": "stdout",
       "text": [
        " 0.399446\n",
        "31"
       ]
      },
      {
       "output_type": "stream",
       "stream": "stdout",
       "text": [
        " 0.398096\n",
        "32"
       ]
      },
      {
       "output_type": "stream",
       "stream": "stdout",
       "text": [
        " 0.39799\n",
        "33"
       ]
      },
      {
       "output_type": "stream",
       "stream": "stdout",
       "text": [
        " 0.387451\n",
        "34"
       ]
      },
      {
       "output_type": "stream",
       "stream": "stdout",
       "text": [
        " 0.387019\n",
        "35"
       ]
      },
      {
       "output_type": "stream",
       "stream": "stdout",
       "text": [
        " 0.381819\n",
        "36"
       ]
      },
      {
       "output_type": "stream",
       "stream": "stdout",
       "text": [
        " 0.395294\n",
        "37"
       ]
      },
      {
       "output_type": "stream",
       "stream": "stdout",
       "text": [
        " 0.385823\n",
        "38"
       ]
      },
      {
       "output_type": "stream",
       "stream": "stdout",
       "text": [
        " 0.386862\n",
        "39"
       ]
      },
      {
       "output_type": "stream",
       "stream": "stdout",
       "text": [
        " 0.38791\n"
       ]
      }
     ],
     "prompt_number": 83
    },
    {
     "cell_type": "code",
     "collapsed": false,
     "input": [
      "plt.plot(silhoutescore)"
     ],
     "language": "python",
     "metadata": {},
     "outputs": []
    }
   ],
   "metadata": {}
  }
 ]
}